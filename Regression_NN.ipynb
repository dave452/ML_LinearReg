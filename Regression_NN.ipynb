{
 "cells": [
  {
   "cell_type": "code",
   "execution_count": 197,
   "id": "1341bdbd",
   "metadata": {},
   "outputs": [],
   "source": [
    "from pyvis.network import Network\n",
    "import pandas as pd\n",
    "import numpy as np\n",
    "np.random.seed(0)"
   ]
  },
  {
   "cell_type": "code",
   "execution_count": 198,
   "id": "d822a7f1",
   "metadata": {},
   "outputs": [],
   "source": [
    "#Takes a csv describing the network and plots it.\n",
    "def plot_full_network(df):\n",
    "    net = Network(bgcolor='#ffffff', notebook = True)\n",
    "    layer_num = 0\n",
    "    old_leng = 0\n",
    "    for ind, leng, lab in zip(df['index'].values, df['length'].values, df['function'].values):\n",
    "        for i in range(leng):\n",
    "            net.add_node(i + layer_num, label=lab + '_' + str(i + 1),\n",
    "                         x=500. * ind,y=100. * (i - (leng -1)/2)) # node id = 1 and label = Node 1\n",
    "            if(ind > 0):\n",
    "                for j in range(df['length'].values[ind - 1]):\n",
    "                    net.add_edge(layer_num + i , layer_num - j -1,\n",
    "                                 title = 'W^('+str(ind-1) + ')_{' + str(old_leng - j) + ',' + str(i+1) + '}') \n",
    "        layer_num += int(leng)\n",
    "        old_leng = leng\n",
    "    net.toggle_physics(False)\n",
    "    net.toggle_drag_nodes(False)\n",
    "    return net\n",
    "\n",
    "def plot_partial_network(df):\n",
    "    net = Network(bgcolor='#ffffff', notebook = True)\n",
    "    layer_num = 0\n",
    "    old_leng = 0\n",
    "    for ind, leng, lab in zip(df['index'].values, df['length'].values, df['function'].values):\n",
    "        if leng >= 3:\n",
    "            net.add_node(layer_num + 0, label=lab + '_' +  str(1),\n",
    "                    x=150. * ind,y=100 * (0 - 3/2) , color ='#dd4b39') # node id = 1 and label = Node 1\n",
    "            net.add_node(layer_num + 1, label=lab + '_'+ str(2),\n",
    "                    x=150. * ind,y=100. * (1  - 3/2), color ='#dd4b39') # node id = 1 and label = Node 1\n",
    "            net.add_node(layer_num + 2, label='...',\n",
    "                    x=150. * ind,y=100. * (2 - 3/2), shape = 'ellipse', color ='#ffff') # node id = 1 and label = Node 1\n",
    "            net.add_node(layer_num + 3, label=lab+ '_' + 'N',\n",
    "                    x=150. * ind,y=100. * (3 - 3/2) , color ='#dd4b39') # node id = 1 and label = Node 1\n",
    "            leng = 4\n",
    "        else:\n",
    "            for i in range(leng):\n",
    "                net.add_node(i + layer_num, label=lab + '_' + str(i+1),\n",
    "                             x=150. * ind,y=100. *  (i - (leng -1)/2) , color ='#dd4b39') # node id = 1 and label = Node 1\n",
    "        if(ind > 0):\n",
    "            for i in range(leng): \n",
    "                for j in range(old_leng):\n",
    "                    lab = 'W^(' + str(ind - 1) + ')_{'\n",
    "                    if old_leng - j -1 == 2:\n",
    "                        lab += '...,'\n",
    "                    elif old_leng - j -1 == 3:\n",
    "                        lab += 'N' + ','\n",
    "                    else: lab += str(old_leng - j) + ','\n",
    "                    if i == 2:\n",
    "                        lab += '...}'\n",
    "                    elif i == 3:\n",
    "                        lab += 'N' + '}'\n",
    "                    else: lab += str(i+1) + '}'\n",
    "                    net.add_edge(layer_num + i , layer_num - j -1, color ='#dd4b39', title = lab)\n",
    "        old_leng = leng\n",
    "        layer_num += int(leng)\n",
    "    net.toggle_physics(False)\n",
    "    net.toggle_drag_nodes(False)\n",
    "    return net"
   ]
  },
  {
   "cell_type": "code",
   "execution_count": 199,
   "id": "9d21d8ed",
   "metadata": {},
   "outputs": [
    {
     "data": {
      "text/html": [
       "\n",
       "        <iframe\n",
       "            width=\"500px\"\n",
       "            height=\"500px\"\n",
       "            src=\"mygraph_full_.html\"\n",
       "            frameborder=\"0\"\n",
       "            allowfullscreen\n",
       "            \n",
       "        ></iframe>\n",
       "        "
      ],
      "text/plain": [
       "<IPython.lib.display.IFrame at 0x1beb66a7e20>"
      ]
     },
     "execution_count": 199,
     "metadata": {},
     "output_type": "execute_result"
    }
   ],
   "source": [
    "net = plot_full_network(pd.read_csv('big_network.csv'))\n",
    "net.show('mygraph_full_'+ '.html')"
   ]
  },
  {
   "cell_type": "markdown",
   "id": "03e7d06d",
   "metadata": {},
   "source": [
    "# Other resources"
   ]
  },
  {
   "cell_type": "markdown",
   "id": "ea78700e",
   "metadata": {},
   "source": [
    "Free online book on neural networks and deep learning, contains examples and basic code : http://neuralnetworksanddeeplearning.com/index.html "
   ]
  },
  {
   "cell_type": "markdown",
   "id": "fcd8e02c",
   "metadata": {},
   "source": [
    "# Linear Regression"
   ]
  },
  {
   "cell_type": "code",
   "execution_count": 200,
   "id": "259abcf6",
   "metadata": {
    "scrolled": true
   },
   "outputs": [
    {
     "data": {
      "text/html": [
       "\n",
       "        <iframe\n",
       "            width=\"500px\"\n",
       "            height=\"500px\"\n",
       "            src=\"mygraph_full_.html\"\n",
       "            frameborder=\"0\"\n",
       "            allowfullscreen\n",
       "            \n",
       "        ></iframe>\n",
       "        "
      ],
      "text/plain": [
       "<IPython.lib.display.IFrame at 0x1beb7c9df10>"
      ]
     },
     "execution_count": 200,
     "metadata": {},
     "output_type": "execute_result"
    }
   ],
   "source": [
    "net = plot_partial_network(pd.read_csv('linear_reg.csv'))\n",
    "net.show('mygraph_full_'  + '.html')"
   ]
  },
  {
   "cell_type": "markdown",
   "id": "b2eb9d64",
   "metadata": {},
   "source": [
    "Want to model an input dataset $X = (\\vec{x}^{(1)}, \\vec{x}^{(2)} , ... ,\\vec{x}^{(M)})$, where $\\vec{x}^{(i)} = (x_1^{(i)}, x_2^{(i)}, ... ,x_N^{(i)} ) $,  to it's known output $\\tilde{Y} = (\\tilde{y}^{(1)},\\tilde{y}^{(2)},...,\\tilde{y}^{(M)})$. \n",
    "\n",
    "Try modelling linearly...\n",
    "\\begin{equation}\n",
    "    \\label{eqn:LinearRegression_output}\n",
    "     y^{(i)} = y(\\vec{w}, b; \\vec{x}^{(i)}) = \\vec{w} \\cdot \\vec{x}^{(i)} + b\n",
    "\\end{equation}\n",
    "for a set of weights $\\vec{w} = (w_1, w_2, ... ,w_N )$.\n",
    "\n",
    "Want to find $\\vec{w}$ such that it best models the data. If we select random weights. How do we know how well this moedls the data ... \n",
    "\n",
    "Need to quantify how well it models the data ...\n",
    "Introduce the RMSE loss function\n",
    "\\begin{equation}\n",
    "    \\label{eqn:RMSE_Loss}\n",
    "     \\mathcal{L}[Y,\\tilde{Y}] = \\frac{1}{2M}\\sum_{i=1}^M (y^{(i)} - \\tilde{y^{(i)}})^2\n",
    "\\end{equation}\n",
    "In this simple case can simply choose the best value for the weights and bias by solving the equation ....\n",
    "\n",
    "\\begin{equation}\n",
    "    \\label{eqn:global_minima}\n",
    "     \\frac{\\partial\\mathcal{L}[Y,\\tilde{Y}]}{\\partial w_j} = 0; \\quad \\frac{\\partial\\mathcal{L}[Y,\\tilde{Y}]}{\\partial b} = 0;\n",
    "\\end{equation}\n",
    "\n",
    "However, in order to allow for a generalisation will try to estimate the best values of the weights by iteratively changing the weights and bias by following the path of steepest descent through the loss function plane...\n",
    "\n",
    "If we change the weights and bias by $\\vec{w} \\to \\vec{w}' = \\vec{w} + \\Delta\\vec{w}$ and $b \\to b' = b + \\Delta b$, the corresponding change in the loss function approximately given by...\n",
    "\\begin{equation}\n",
    "    \\label{eqn:dLoss_linear}\n",
    "\\Delta\\mathcal{L}[Y,\\tilde{Y}]\\approx \\sum_{j=1}^N \\frac{\\partial \\mathcal{L}[Y,\\tilde{Y}]}{\\partial w_j} \\Delta w_j +   \\frac{\\partial \\mathcal{L}[Y,\\tilde{Y}]}{\\partial b} \\Delta b = \\frac{1}{M}\\sum_{i=1}^M (y^{(i)} - \\tilde{y^{(i)}})\\left(\\sum_{j=1}^N x^{(i)}_j \\Delta w_j + \\Delta b \\right)\n",
    "\\end{equation}\n",
    "Can ensure we will move in a direction to reduce the loss function by choosing $\\Delta w_j = -\\eta  (\\partial \\mathcal{L}[Y,\\tilde{Y}]/{\\partial w_j})$ and $\\Delta b = -\\eta  (\\partial \\mathcal{L}[Y,\\tilde{Y}]/{\\partial b})$, where $\\eta$ is an arbitrary small parameter. For sufficiently small $\\eta$ the change in the loss function can be approximated as\n",
    "\\begin{equation}\n",
    "    \\label{eqn:dLoss_linear_eta}\n",
    "\\Delta\\mathcal{L}[Y,\\tilde{Y}]\\approx - \\sum_{j=1}^N \\left| \\frac{\\partial \\mathcal{L}[Y,\\tilde{Y}]}{\\partial w_j}\\right|^2 \\eta -   \\left|\\frac{\\partial \\mathcal{L}[Y,\\tilde{Y}]}{\\partial b} \\right|^2 \\eta  = - \\left [ \\frac{1}{M^2}\\sum_{i=1}^M \\left| y^{(i)} - \\tilde{y^{(i)}} \\right|^2 \\left(\\left|\\sum_{j=1}^N  x^{(i)}_j \\right|^2 + 1 \\right) \\right]\\eta\n",
    "\\end{equation}\n",
    "as we are considering $\\eta$ to be positive and are taking the absolute value squared of the rest we see that the change will always be strickly negative, therefore we will continually reduce the loss function, improving the quality of the network. "
   ]
  },
  {
   "cell_type": "markdown",
   "id": "bb02e23e",
   "metadata": {},
   "source": [
    "### Example"
   ]
  },
  {
   "cell_type": "code",
   "execution_count": 201,
   "id": "dbaf7c06",
   "metadata": {},
   "outputs": [],
   "source": [
    "class linear_regression:\n",
    "    def __init__(self, x, y, eta, iterations):\n",
    "        self.w = np.random.rand(x.shape[1])\n",
    "        self.b = np.random.rand(1)\n",
    "        self.x = x\n",
    "        self.y_test = y\n",
    "        self.eta = eta\n",
    "        self.iterations = iterations\n",
    "        self.L_train = np.zeros(iterations)\n",
    "        \n",
    "    def calc_y(self):\n",
    "        return np.sum(self.w*self.x, axis = 1) + self.b\n",
    "\n",
    "    def calc_dL_dy(self):\n",
    "        M = len(self.y_test)\n",
    "        y = self.calc_y() \n",
    "        return (1/M) * (y - self.y_test)\n",
    "\n",
    "    def calc_dy_dw(self):\n",
    "        return  self.x.T\n",
    "\n",
    "    def calc_dy_db(self):\n",
    "        return 1.\n",
    "\n",
    "    def L(self):\n",
    "        M = len(self.y_test)\n",
    "        y = self.calc_y()\n",
    "        return (1/M) * sum((y - self.y_test) ** 2)\n",
    "\n",
    "    def single_update(self):\n",
    "        dL_dw = np.sum((self.calc_dy_dw() * self.calc_dL_dy()),axis = 1)\n",
    "        dL_db = np.sum(self.calc_dL_dy() * self.calc_dy_db())\n",
    "        self.w -= self.eta*dL_dw\n",
    "        self.b -= self.eta*dL_db\n",
    "    \n",
    "    def full_update(self):\n",
    "        for i in range(self.iterations):\n",
    "            self.single_update()\n",
    "            self.L_train[i] = self.L()\n",
    "    \n",
    "    def plot_train(self):\n",
    "        plt.plot(self.L_train)\n",
    "        plt.show()\n"
   ]
  },
  {
   "cell_type": "code",
   "execution_count": 204,
   "id": "c68ce9df",
   "metadata": {},
   "outputs": [
    {
     "data": {
      "image/png": "[encoded data removed]",
      "text/plain": [
       "<Figure size 640x480 with 1 Axes>"
      ]
     },
     "metadata": {},
     "output_type": "display_data"
    }
   ],
   "source": [
    "x = np.random.rand(100,1)\n",
    "w = np.random.rand(x.shape[1])\n",
    "b = np.random.rand(1)\n",
    "y = np.sum(w*x,axis = 1) + b\n",
    "a = linear_regression(x,y,1,50)\n",
    "a.full_update()\n",
    "a.plot_train()"
   ]
  },
  {
   "cell_type": "code",
   "execution_count": 205,
   "id": "8b509c4e",
   "metadata": {},
   "outputs": [
    {
     "name": "stdout",
     "output_type": "stream",
     "text": [
      "Used w =  [0.57225191] , measured w =  [0.57794852]\n",
      "Used b =  [0.22308163] , measured b =  [0.22017767]\n"
     ]
    },
    {
     "data": {
      "image/png": "[encoded data removed]",
      "text/plain": [
       "<Figure size 640x480 with 1 Axes>"
      ]
     },
     "metadata": {},
     "output_type": "display_data"
    }
   ],
   "source": [
    "plt.plot(x,y, 'kx')\n",
    "plt.plot([0,1], [b, w+b], 'r--', lw=3)\n",
    "plt.plot(x,a.calc_y(), 'b-.', lw=1)\n",
    "print('Used w = ' ,w , ', measured w = ', a.w)\n",
    "print('Used b = ' ,b , ', measured b = ', a.b)"
   ]
  },
  {
   "cell_type": "markdown",
   "id": "845ec6e4",
   "metadata": {},
   "source": [
    "### General activation function"
   ]
  },
  {
   "cell_type": "markdown",
   "id": "ef02e250",
   "metadata": {},
   "source": [
    "Linear equation may not accurately model the data try different function... \n",
    "\\begin{equation}\n",
    "    \\label{eqn:Regression_output}\n",
    "     y^{(i)} = y(\\vec{w}, b; \\vec{x}^{(i)}) = f(\\vec{w} \\cdot \\vec{x}^{(i)} + b)= f(z^{(i)})\n",
    "\\end{equation}\n",
    "\n",
    "Want to find the affects of a small change in the weights and biases on the loss function...\n",
    "\\begin{equation}\n",
    "    \\label{eqn:dLoss_general}\n",
    "     \\Delta\\mathcal{L}[Y,\\tilde{Y}]\\approx \\sum_{j=1}^N \\frac{\\partial \\mathcal{L}[Y,\\tilde{Y}]}{\\partial w_j} \\Delta w_j +   \\frac{\\partial \\mathcal{L}[Y,\\tilde{Y}]}{\\partial b} \\Delta b  = \n",
    "     \\sum_{i=1}^{M}\\frac{\\partial \\mathcal{L}[Y,\\tilde{Y}]}{\\partial y^{(i)}} \\frac{\\partial y^{(i)}}{\\partial z^{(i)}} \\left( \\sum_{j=1}^N x_j \\Delta w_j +  \\Delta b \\right) = \\sum_{i=1}^{M} \\left( \\sum_{j=1}^N x_j^{(i)} \\Delta w_j +  \\Delta b \\right)\\delta ^{(i)} \n",
    "\\end{equation}\n",
    "where $\\delta$ is the error function. This will be used more later when we discuss the backpropagation algorthim. It is defined as\n",
    "\\begin{equation}\n",
    "    \\label{eqn:error}\n",
    "     \\delta ^{(i)} =  \\frac{\\partial\\mathcal{L}[Y,\\tilde{Y}]}{\\partial z^{(i)}} =  \\frac{\\partial\\mathcal{L}[Y,\\tilde{Y}]}{\\partial y^{(i)}} \\frac{\\partial y^{(i)}}{\\partial z^{(i)}} \n",
    "\\end{equation}\n",
    "Choose to change the weights and bias such that the loss function is reduced. Can do this simply by choosing the change in weights and biases to be $w_j \\to w_j - \\eta (\\partial \\mathcal{L}[\\vec{y},\\vec{\\tilde{y}}]/\\partial w_j)$ and $b \\to b - \\eta (\\partial \\mathcal{L}[\\vec{y},\\vec{\\tilde{y}}]/\\partial b)$, such that, for an arbirary small parameter $\\eta$, the change in the loss function becomes\n",
    "\\begin{equation}\n",
    "    \\label{eqn:dLoss_general_eta}\n",
    "\\Delta\\mathcal{L} \\approx   - \\left|\\frac{\\partial \\mathcal{L}[Y,\\tilde{Y}]}{\\partial w_j}\\right|^2 \\eta - \\left|\\frac{\\partial \\mathcal{L}[Y,\\tilde{Y}]}{\\partial b}\\right|^2 \\eta = -\\sum_{i=1}^{M} \\left( \\sum_{j=1}^N \\left|x_j^{(i)}\\right|^2 +  1 \\right)\\left|\\delta ^{(i)}\\right|^2\\eta .\n",
    "\\end{equation}\n",
    "This will therefore lead to a smaller loss value. Add diagram of ball rolling down hill, the classic and description of ball rolling down a hill, path of steepest descent ....\n"
   ]
  },
  {
   "cell_type": "markdown",
   "id": "721c8c8d",
   "metadata": {},
   "source": [
    "### Examples"
   ]
  },
  {
   "cell_type": "markdown",
   "id": "62860fa1",
   "metadata": {},
   "source": [
    "Hyperbolic tan loss activtion function.\n",
    "\\begin{equation}\n",
    "    \\label{eqn:tanh}\n",
    "     f(\\vec{w} \\cdot \\vec{x} + b) = \\tanh(\\vec{w} \\cdot \\vec{x} + b); \\quad \\frac{\\partial f(\\vec{w} \\cdot \\vec{x} + b)}{\\partial w_j} =x_j(1 - tanh^2(\\vec{w} \\cdot \\vec{x} + b)); \\quad \\frac{\\partial f(\\vec{w} \\cdot \\vec{x} + b)}{\\partial b} = (1 - tanh^2(\\vec{w} \\cdot \\vec{x} + b))\n",
    "\\end{equation}\n",
    "Sigmoid function.\n",
    "\\begin{equation}\n",
    "    \\label{eqn:sigmoid}\n",
    "      f(x) = \\sigma(x) =\\frac{1}{1 + e^{-x}}; \\quad f(x) = \\sigma'(x) = \\frac{e^{-x}}{(1 + e^{-x})^2} = \\sigma(x)(1 - \\sigma(x));\n",
    "\\end{equation}\n"
   ]
  },
  {
   "cell_type": "markdown",
   "id": "8e861368",
   "metadata": {},
   "source": [
    "Diagram of linear regression thing"
   ]
  },
  {
   "cell_type": "markdown",
   "id": "30318b39",
   "metadata": {},
   "source": [
    "## Backpropagation, or how I learned to stop worrying and love the indices"
   ]
  },
  {
   "cell_type": "code",
   "execution_count": 206,
   "id": "43777d6a",
   "metadata": {},
   "outputs": [
    {
     "data": {
      "text/html": [
       "\n",
       "        <iframe\n",
       "            width=\"500px\"\n",
       "            height=\"500px\"\n",
       "            src=\"mygraph_full_.html\"\n",
       "            frameborder=\"0\"\n",
       "            allowfullscreen\n",
       "            \n",
       "        ></iframe>\n",
       "        "
      ],
      "text/plain": [
       "<IPython.lib.display.IFrame at 0x1beb79ae6a0>"
      ]
     },
     "execution_count": 206,
     "metadata": {},
     "output_type": "execute_result"
    }
   ],
   "source": [
    "net = plot_partial_network(pd.read_csv('classification.csv'))\n",
    "net.show('mygraph_full_'  + '.html')"
   ]
  },
  {
   "cell_type": "markdown",
   "id": "8e1ef3ff",
   "metadata": {},
   "source": [
    "## Multiple hidden layers the same but with more indices"
   ]
  },
  {
   "cell_type": "code",
   "execution_count": 45,
   "id": "5beb69a9",
   "metadata": {},
   "outputs": [
    {
     "data": {
      "text/html": [
       "\n",
       "        <iframe\n",
       "            width=\"500px\"\n",
       "            height=\"500px\"\n",
       "            src=\"mygraph_full_.html\"\n",
       "            frameborder=\"0\"\n",
       "            allowfullscreen\n",
       "            \n",
       "        ></iframe>\n",
       "        "
      ],
      "text/plain": [
       "<IPython.lib.display.IFrame at 0x1beb255ff70>"
      ]
     },
     "execution_count": 45,
     "metadata": {},
     "output_type": "execute_result"
    }
   ],
   "source": [
    "net = plot_partial_network(pd.read_csv('hidden.csv'))\n",
    "net.show('mygraph_full_'  + '.html')"
   ]
  },
  {
   "cell_type": "markdown",
   "id": "e61032a3",
   "metadata": {},
   "source": [
    "## Gradient descent"
   ]
  },
  {
   "cell_type": "markdown",
   "id": "7ba7321a",
   "metadata": {},
   "source": [
    "### Loss function"
   ]
  },
  {
   "cell_type": "markdown",
   "id": "74e7c592",
   "metadata": {},
   "source": [
    "### Gradient descent"
   ]
  },
  {
   "cell_type": "markdown",
   "id": "63b65672",
   "metadata": {},
   "source": [
    "## Stochastic gradient descent"
   ]
  },
  {
   "cell_type": "markdown",
   "id": "6485f0e8",
   "metadata": {},
   "source": [
    "## Training / testing split"
   ]
  },
  {
   "cell_type": "markdown",
   "id": "78d12461",
   "metadata": {},
   "source": [
    "# Single layer neural networks"
   ]
  },
  {
   "cell_type": "markdown",
   "id": "01cd205c",
   "metadata": {},
   "source": [
    "## Backpropagation algorthim"
   ]
  },
  {
   "cell_type": "markdown",
   "id": "38ca7409",
   "metadata": {},
   "source": [
    "# Multi-layer networks (deep?)"
   ]
  },
  {
   "cell_type": "markdown",
   "id": "29a461ab",
   "metadata": {},
   "source": [
    "# Different architectures"
   ]
  },
  {
   "cell_type": "markdown",
   "id": "ac6dc0be",
   "metadata": {},
   "source": [
    "# NNP"
   ]
  },
  {
   "cell_type": "markdown",
   "id": "338bc5db",
   "metadata": {},
   "source": [
    "# Example code to be dispersed through notes not used at moment"
   ]
  },
  {
   "cell_type": "code",
   "execution_count": 1,
   "id": "358232db",
   "metadata": {},
   "outputs": [],
   "source": [
    "import numpy as np\n",
    "from matplotlib import pyplot as plt"
   ]
  },
  {
   "cell_type": "code",
   "execution_count": 2,
   "id": "968f9883",
   "metadata": {},
   "outputs": [
    {
     "name": "stdout",
     "output_type": "stream",
     "text": [
      "Want to predict the gradient:  [6.87039142 3.21181596]  and the intercept:  [-5.77655683]\n"
     ]
    }
   ],
   "source": [
    "m = np.random.uniform(-10,10, (2))\n",
    "c = np.random.uniform(-10,10, (1))\n",
    "def f(m,c,x):\n",
    "    return np.sum(m*x,axis=1) + c\n",
    "\n",
    "def df_dx(m,c,x):\n",
    "    return m\n",
    "\n",
    "def df_dm(m,c,x):\n",
    "    return x\n",
    "\n",
    "def df_dc(m,c,x):\n",
    "    return 1.\n",
    "print('Want to predict the gradient: ',m,' and the intercept: ',c)"
   ]
  },
  {
   "cell_type": "code",
   "execution_count": 3,
   "id": "4a585ef4",
   "metadata": {},
   "outputs": [
    {
     "name": "stdout",
     "output_type": "stream",
     "text": [
      "(100,)\n",
      "(100,)\n",
      "(100,)\n"
     ]
    },
    {
     "data": {
      "text/plain": [
       "<mpl_toolkits.mplot3d.art3d.Path3DCollection at 0x22ff9030280>"
      ]
     },
     "execution_count": 3,
     "metadata": {},
     "output_type": "execute_result"
    },
    {
     "data": {
      "image/png": "[encoded data removed]",
      "text/plain": [
       "<Figure size 432x288 with 1 Axes>"
      ]
     },
     "metadata": {
      "needs_background": "light"
     },
     "output_type": "display_data"
    }
   ],
   "source": [
    "x = np.random.uniform(-10,10, (100, 2))\n",
    "y = f(m,c,x) + np.random.uniform(-10,10, (1))\n",
    "ax = plt.figure().add_subplot(projection='3d')\n",
    "print(y.shape)\n",
    "print(x[:,0].shape)\n",
    "print(x[:,1].shape)\n",
    "ax.scatter(x[:,0], x[:,1], y)"
   ]
  },
  {
   "cell_type": "code",
   "execution_count": 4,
   "id": "8c83dced",
   "metadata": {},
   "outputs": [
    {
     "data": {
      "text/plain": [
       "<mpl_toolkits.mplot3d.art3d.Path3DCollection at 0x22ff9186130>"
      ]
     },
     "execution_count": 4,
     "metadata": {},
     "output_type": "execute_result"
    },
    {
     "data": {
      "image/png": "[encoded data removed]",
      "text/plain": [
       "<Figure size 432x288 with 1 Axes>"
      ]
     },
     "metadata": {
      "needs_background": "light"
     },
     "output_type": "display_data"
    }
   ],
   "source": [
    "def test_train_split(x,y, splt):\n",
    "    a =  np.split(np.column_stack((x, y)), [int(len(y)*splt), len(y)], axis = 0)\n",
    "    train_x = a[0][:,0:x.shape[1]]\n",
    "    train_y = a[0][:,x.shape[1]]\n",
    "    test_x = a[1][:,0:x.shape[1]]\n",
    "    test_y = a[1][:,x.shape[1]]\n",
    "    return train_x, test_x, train_y, test_y\n",
    "\n",
    "train_x, test_x, train_y, test_y = test_train_split(x,y,0.75)\n",
    "ax = plt.figure().add_subplot(projection='3d')\n",
    "ax.scatter(train_x[:,0], train_x[:,1], train_y)\n",
    "ax.scatter(test_x[:,0], test_x[:,1], test_y)"
   ]
  },
  {
   "cell_type": "code",
   "execution_count": 5,
   "id": "e1ca13b2",
   "metadata": {},
   "outputs": [],
   "source": [
    "guess_m = np.random.uniform(-10,10, m.shape)\n",
    "guess_c = np.random.uniform(-10,10, c.shape)\n"
   ]
  },
  {
   "cell_type": "code",
   "execution_count": null,
   "id": "24362ab3",
   "metadata": {},
   "outputs": [],
   "source": []
  }
 ],
 "metadata": {
  "kernelspec": {
   "display_name": "Python 3 (ipykernel)",
   "language": "python",
   "name": "python3"
  },
  "language_info": {
   "codemirror_mode": {
    "name": "ipython",
    "version": 3
   },
   "file_extension": ".py",
   "mimetype": "text/x-python",
   "name": "python",
   "nbconvert_exporter": "python",
   "pygments_lexer": "ipython3",
   "version": "3.8.13"
  }
 },
 "nbformat": 4,
 "nbformat_minor": 5
}
